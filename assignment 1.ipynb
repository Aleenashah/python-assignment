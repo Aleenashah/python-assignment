{
 "cells": [
  {
   "cell_type": "code",
   "execution_count": 2,
   "metadata": {},
   "outputs": [
    {
     "name": "stdout",
     "output_type": "stream",
     "text": [
      "Twinkle, twinkle, little star, How I wonder what you are! up above the world so high, like a diamomd in the sky, Twinkle, twinkle, little star How I wonder what you are\n"
     ]
    }
   ],
   "source": [
    "a = \"Twinkle, twinkle, little star,\"\n",
    "b =   \"How I wonder what you are!\"\n",
    "c =   \"up above the world so high,\"\n",
    "d =   \"like a diamomd in the sky,\"\n",
    "e = \"Twinkle, twinkle, little star\"\n",
    "f = \"How I wonder what you are\"\n",
    "print(a,b,c,d,e,f)"
   ]
  },
  {
   "cell_type": "code",
   "execution_count": 3,
   "metadata": {},
   "outputs": [
    {
     "name": "stdout",
     "output_type": "stream",
     "text": [
      "3.7\n"
     ]
    }
   ],
   "source": [
    "a = 3.7\n",
    "print(a)"
   ]
  },
  {
   "cell_type": "code",
   "execution_count": 4,
   "metadata": {},
   "outputs": [
    {
     "name": "stdout",
     "output_type": "stream",
     "text": [
      "enter value of radius5\n",
      "15.709999999999999\n"
     ]
    }
   ],
   "source": [
    "a = int(input(\"enter value of radius\"))\n",
    "b = 3.142\n",
    "c = a*b\n",
    "print(c)\n"
   ]
  },
  {
   "cell_type": "code",
   "execution_count": 7,
   "metadata": {},
   "outputs": [
    {
     "name": "stdout",
     "output_type": "stream",
     "text": [
      "Hamza Syed\n"
     ]
    }
   ],
   "source": [
    "firstname = (\"Syed\")\n",
    "lastname = (\"Hamza\")\n",
    "print(lastname,firstname)"
   ]
  },
  {
   "cell_type": "code",
   "execution_count": 8,
   "metadata": {},
   "outputs": [
    {
     "name": "stdout",
     "output_type": "stream",
     "text": [
      "33\n"
     ]
    }
   ],
   "source": [
    "a = 2\n",
    "b = 31\n",
    "c = a + b\n",
    "print(c)"
   ]
  },
  {
   "cell_type": "code",
   "execution_count": null,
   "metadata": {},
   "outputs": [],
   "source": []
  }
 ],
 "metadata": {
  "kernelspec": {
   "display_name": "Python 3",
   "language": "python",
   "name": "python3"
  },
  "language_info": {
   "codemirror_mode": {
    "name": "ipython",
    "version": 3
   },
   "file_extension": ".py",
   "mimetype": "text/x-python",
   "name": "python",
   "nbconvert_exporter": "python",
   "pygments_lexer": "ipython3",
   "version": "3.7.3"
  }
 },
 "nbformat": 4,
 "nbformat_minor": 2
}
